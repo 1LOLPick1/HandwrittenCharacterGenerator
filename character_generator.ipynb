{
 "cells": [
  {
   "cell_type": "code",
   "execution_count": 28,
   "metadata": {},
   "outputs": [],
   "source": [
    "import numpy as np\n",
    "import cv2\n",
    "import pandas as pd\n",
    "import sys\n",
    "import os\n",
    "import keras\n",
    "from keras.layers import Input, Dense \n",
    "from keras.layers import BatchNormalization, Dropout, Flatten, Reshape, Lambda\n",
    "from keras.layers import concatenate\n",
    "from keras.models import Model\n",
    "from keras.objectives import binary_crossentropy\n",
    "from keras.layers.advanced_activations import LeakyReLU\n",
    "from keras import backend as K\n",
    "from matplotlib import pyplot as plt\n",
    "%matplotlib inline"
   ]
  },
  {
   "cell_type": "code",
   "execution_count": 2,
   "metadata": {
    "collapsed": true
   },
   "outputs": [],
   "source": [
    "dirs = ['4a','4b','4c','4d', '4e','4f','5a','6a','6b','6c','6d','6e','6f','7a','30','31','32', '33',\n",
    "       '34', '35', '36', '37', '38', '39', '41', '42', '43', '44', '45', '46', '47', '48', '49', '50',\n",
    "       '51', '52', '53','54','55', '56','57','58','59','61','62','63','64','65','66','67','68','69','70',\n",
    "       '71','72','73','74','75','76','77','78','79']\n",
    "classes = ['J','K','L', 'M', 'N','O','Z','j','k','l','m','n','o','z','0','1', '2', '3',\n",
    "          '4', '5', '6', '7', '8', '9', 'A', 'B', 'C', 'D', 'E', 'F', 'G', 'H', 'I', 'P',\n",
    "          'Q', 'R', 'S','T','U', 'V','W','X','Y','a','b','c','d','e','f','g','h','i','p',\n",
    "          'q','r','s','t','u','v','w','x','y']"
   ]
  },
  {
   "cell_type": "code",
   "execution_count": 3,
   "metadata": {
    "collapsed": true
   },
   "outputs": [],
   "source": [
    "supdirs = list(set(['hsf_{}'.format(i) for i in range(8)]) - set(['hsf_5']))"
   ]
  },
  {
   "cell_type": "code",
   "execution_count": 4,
   "metadata": {
    "collapsed": true
   },
   "outputs": [],
   "source": [
    "classes_dirs_tuple = {\n",
    "    c: ['data/by_class/' + d + '/' + s + '/' for s in supdirs] + \n",
    "    ['data/by_class/' + d + '/train_' + d + '/']\n",
    "    for c, d in zip(classes, dirs)\n",
    "}"
   ]
  },
  {
   "cell_type": "code",
   "execution_count": 58,
   "metadata": {
    "collapsed": true
   },
   "outputs": [],
   "source": [
    "#classes_dirs_tuple"
   ]
  },
  {
   "cell_type": "code",
   "execution_count": 5,
   "metadata": {
    "collapsed": true
   },
   "outputs": [],
   "source": [
    "def flatten_list(lst):\n",
    "    res = []\n",
    "    for l in lst:\n",
    "        for e in l:\n",
    "            res.append(e)\n",
    "    return res"
   ]
  },
  {
   "cell_type": "code",
   "execution_count": 6,
   "metadata": {
    "collapsed": true
   },
   "outputs": [],
   "source": [
    "classes_imgs_tuple = {\n",
    "    c: flatten_list([[d + img_name for img_name in os.listdir(d)] for d in drs_list])\n",
    "    for c, drs_list in classes_dirs_tuple.items()\n",
    "}"
   ]
  },
  {
   "cell_type": "code",
   "execution_count": 7,
   "metadata": {},
   "outputs": [
    {
     "data": {
      "text/plain": [
       "8350"
      ]
     },
     "execution_count": 7,
     "metadata": {},
     "output_type": "execute_result"
    }
   ],
   "source": [
    "len(classes_imgs_tuple['J'])"
   ]
  },
  {
   "cell_type": "code",
   "execution_count": 8,
   "metadata": {},
   "outputs": [
    {
     "data": {
      "image/png": "[encoded data removed]",
      "text/plain": [
       "<matplotlib.figure.Figure at 0x7f99a5199ac8>"
      ]
     },
     "metadata": {},
     "output_type": "display_data"
    }
   ],
   "source": [
    "plt.figure(figsize=(18, 10))\n",
    "plt.bar([c for c, _ in classes_imgs_tuple.items()], [len(d) for _, d in classes_imgs_tuple.items()],\n",
    "       align = 'center')\n",
    "plt.show()"
   ]
  },
  {
   "cell_type": "code",
   "execution_count": 23,
   "metadata": {},
   "outputs": [
    {
     "data": {
      "text/plain": [
       "1545923"
      ]
     },
     "execution_count": 23,
     "metadata": {},
     "output_type": "execute_result"
    }
   ],
   "source": [
    "label_img_store = [(label, img) for label in classes for img in classes_imgs_tuple[label]]\n",
    "len(label_img_store)"
   ]
  },
  {
   "cell_type": "code",
   "execution_count": 29,
   "metadata": {
    "collapsed": true
   },
   "outputs": [],
   "source": [
    "class CsvFileWriter:\n",
    "    def __init__(self, fpath, *fields):\n",
    "        file_exists = os.path.isfile(fpath)\n",
    "\n",
    "        self.file = open(fpath, 'a', newline='')\n",
    "        self.writer = csv.DictWriter(self.file, fieldnames=fields)\n",
    "        if not file_exists:\n",
    "            self.writer.writeheader()\n",
    "\n",
    "    def append(self, **kwargs):\n",
    "        self.writer.writerow(kwargs)\n",
    "\n",
    "    def close(self):\n",
    "        self.file.close()"
   ]
  }
 ],
 "metadata": {
  "kernelspec": {
   "display_name": "Python 3",
   "language": "python",
   "name": "python3"
  },
  "language_info": {
   "codemirror_mode": {
    "name": "ipython",
    "version": 3
   },
   "file_extension": ".py",
   "mimetype": "text/x-python",
   "name": "python",
   "nbconvert_exporter": "python",
   "pygments_lexer": "ipython3",
   "version": "3.6.6"
  }
 },
 "nbformat": 4,
 "nbformat_minor": 2
}
